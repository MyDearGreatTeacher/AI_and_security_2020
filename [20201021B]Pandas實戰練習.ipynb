{
  "nbformat": 4,
  "nbformat_minor": 0,
  "metadata": {
    "colab": {
      "name": "Pandas實戰練習20201021.ipynb",
      "provenance": [],
      "collapsed_sections": []
    },
    "kernelspec": {
      "name": "python3",
      "display_name": "Python 3"
    }
  },
  "cells": [
    {
      "cell_type": "markdown",
      "metadata": {
        "id": "wOSFQgDyQarC"
      },
      "source": [
        "\n",
        "# Pandas實戰練習 20201021\n",
        "\n"
      ]
    },
    {
      "cell_type": "markdown",
      "metadata": {
        "id": "Utd00CYzQQnB"
      },
      "source": [
        "# Object creation 1: Series \n",
        "\n"
      ]
    },
    {
      "cell_type": "code",
      "metadata": {
        "id": "drfrDYh5MBPw"
      },
      "source": [
        "import numpy as np\n",
        "import pandas as pd\n",
        "\n",
        "\n",
        "s = pd.Series([1, 3, 5, np.nan, 6, 8])\n",
        "s"
      ],
      "execution_count": null,
      "outputs": []
    },
    {
      "cell_type": "markdown",
      "metadata": {
        "id": "uBIvmpxxQp4J"
      },
      "source": [
        "# Object creation 2: Dataframe "
      ]
    },
    {
      "cell_type": "code",
      "metadata": {
        "id": "M7CuRJhrQnN5"
      },
      "source": [
        "dates = pd.date_range('20201001', periods=6)\n",
        "dates"
      ],
      "execution_count": null,
      "outputs": []
    },
    {
      "cell_type": "code",
      "metadata": {
        "id": "pL1Ofi4FQyHZ"
      },
      "source": [
        "df = pd.DataFrame(np.random.randn(6, 4), index=dates, columns=list('ABCD'))\n",
        "df"
      ],
      "execution_count": null,
      "outputs": []
    },
    {
      "cell_type": "code",
      "metadata": {
        "id": "7WeLs-J3Q-6h"
      },
      "source": [
        "df2 = pd.DataFrame({'A': 1.,\n",
        "           'B': pd.Timestamp('20121021'),\n",
        "           'C': pd.Series(1, index=list(range(4)), dtype='float32'),\n",
        "           'D': np.array([3] * 4, dtype='int32'),\n",
        "           'E': pd.Categorical([\"test\", \"train\", \"test\", \"train\"]),\n",
        "           'F': 'foo'})\n",
        "df2"
      ],
      "execution_count": null,
      "outputs": []
    },
    {
      "cell_type": "markdown",
      "metadata": {
        "id": "agasmkIJSbJE"
      },
      "source": [
        "# 必考題\n",
        "\n",
        "題目1:顯示df2每一個欄位的資料型態"
      ]
    },
    {
      "cell_type": "markdown",
      "metadata": {
        "id": "QZXbOTaWS0ih"
      },
      "source": [
        "#### 題目2: 顯示df1的前五筆資料"
      ]
    },
    {
      "cell_type": "markdown",
      "metadata": {
        "id": "UmtveLv3S4Ei"
      },
      "source": [
        "#### 題目3: 顯示df2的後五筆資料"
      ]
    },
    {
      "cell_type": "markdown",
      "metadata": {
        "id": "ZpF_iF9mTEho"
      },
      "source": [
        "#### 題目4: Display the index"
      ]
    },
    {
      "cell_type": "markdown",
      "metadata": {
        "id": "UunVj0ulTGkz"
      },
      "source": [
        "#### 題目5:Display the columns"
      ]
    },
    {
      "cell_type": "markdown",
      "metadata": {
        "id": "NcbsL4RLTKmZ"
      },
      "source": [
        ""
      ]
    },
    {
      "cell_type": "code",
      "metadata": {
        "id": "YeMgUn14TBmo"
      },
      "source": [
        ""
      ],
      "execution_count": null,
      "outputs": []
    }
  ]
}