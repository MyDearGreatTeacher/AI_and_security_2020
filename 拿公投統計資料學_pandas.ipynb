{
  "nbformat": 4,
  "nbformat_minor": 0,
  "metadata": {
    "colab": {
      "name": "拿公投統計資料學 pandas.ipynb",
      "provenance": [],
      "collapsed_sections": []
    },
    "kernelspec": {
      "name": "python3",
      "display_name": "Python 3"
    }
  },
  "cells": [
    {
      "cell_type": "markdown",
      "metadata": {
        "id": "Ubo8rBQP0sWb"
      },
      "source": [
        "# Pandas資料分析實戰\n",
        "\n",
        "資料來源:拿公投統計資料學 pandas\n",
        "\n",
        "https://newtoypia.blogspot.com/2018/12/pandas.html\n",
        "\n",
        "\n"
      ]
    },
    {
      "cell_type": "markdown",
      "metadata": {
        "id": "BXVTE5yF1CLS"
      },
      "source": [
        "# 資料預處理 Data preprocessing\n",
        "\n",
        "excel編碼與亂碼解決"
      ]
    },
    {
      "cell_type": "markdown",
      "metadata": {
        "id": "PcYVy9cT1Q3k"
      },
      "source": [
        "### 下載已處理好的資料"
      ]
    },
    {
      "cell_type": "code",
      "metadata": {
        "id": "p1vtHX0Gz_ZJ"
      },
      "source": [
        "!wget https://raw.githubusercontent.com/MyDearGreatTeacher/AI_and_security_2020/master/referendum2.csv"
      ],
      "execution_count": null,
      "outputs": []
    },
    {
      "cell_type": "code",
      "metadata": {
        "id": "EOEILyE20kcG"
      },
      "source": [
        "cat referendum2.csv "
      ],
      "execution_count": null,
      "outputs": []
    },
    {
      "cell_type": "markdown",
      "metadata": {
        "id": "rWE5Fqaf3DBS"
      },
      "source": [
        "# 使用pd.read_csv()讀取CSV資料"
      ]
    },
    {
      "cell_type": "code",
      "metadata": {
        "id": "NzZ52nGh3CYE"
      },
      "source": [
        ""
      ],
      "execution_count": null,
      "outputs": []
    },
    {
      "cell_type": "code",
      "metadata": {
        "id": "5CKxf0M61ipQ"
      },
      "source": [
        "import pandas as pd\n",
        "refm = pd.read_csv('referendum2.csv')"
      ],
      "execution_count": 3,
      "outputs": []
    },
    {
      "cell_type": "code",
      "metadata": {
        "id": "VTseb17O1lZT"
      },
      "source": [
        "refm"
      ],
      "execution_count": null,
      "outputs": []
    },
    {
      "cell_type": "code",
      "metadata": {
        "id": "3uRISqiu2IPD",
        "outputId": "5d77b3db-e04c-4767-c4fd-57a4e419bb0f",
        "colab": {
          "base_uri": "https://localhost:8080/",
          "height": 221
        }
      },
      "source": [
        "refm['同意票數']"
      ],
      "execution_count": 5,
      "outputs": [
        {
          "output_type": "execute_result",
          "data": {
            "text/plain": [
              "0       7955753\n",
              "1        187162\n",
              "2          5701\n",
              "3          5087\n",
              "4          5246\n",
              "         ...   \n",
              "3905       6890\n",
              "3906      12625\n",
              "3907      99747\n",
              "3908       6495\n",
              "3909      38075\n",
              "Name: 同意票數, Length: 3910, dtype: int64"
            ]
          },
          "metadata": {
            "tags": []
          },
          "execution_count": 5
        }
      ]
    },
    {
      "cell_type": "markdown",
      "metadata": {
        "id": "rvkb-07N3R4l"
      },
      "source": [
        "# 驗證資料正確性\n",
        "```\n",
        "驗算 「同意票數+不同意票數==有效票數」\n",
        "驗算 「有效票數+無效票數==投票數」\n",
        "```"
      ]
    },
    {
      "cell_type": "code",
      "metadata": {
        "id": "C6Rvoz7U2jQY",
        "outputId": "53fc013f-3de3-4fb4-a55d-09ff95e59c61",
        "colab": {
          "base_uri": "https://localhost:8080/",
          "height": 221
        }
      },
      "source": [
        "x=refm['同意票數']+refm['不同意票數']-refm['有效票數']\n",
        "x"
      ],
      "execution_count": 7,
      "outputs": [
        {
          "output_type": "execute_result",
          "data": {
            "text/plain": [
              "0       0\n",
              "1       0\n",
              "2       0\n",
              "3       0\n",
              "4       0\n",
              "       ..\n",
              "3905    0\n",
              "3906    0\n",
              "3907    0\n",
              "3908    0\n",
              "3909    0\n",
              "Length: 3910, dtype: int64"
            ]
          },
          "metadata": {
            "tags": []
          },
          "execution_count": 7
        }
      ]
    },
    {
      "cell_type": "code",
      "metadata": {
        "id": "oWsinDKE2wM_",
        "outputId": "831fe75f-448d-4b6a-adf4-79b8fb33aa06",
        "colab": {
          "base_uri": "https://localhost:8080/",
          "height": 170
        }
      },
      "source": [
        "x.describe()"
      ],
      "execution_count": 8,
      "outputs": [
        {
          "output_type": "execute_result",
          "data": {
            "text/plain": [
              "count    3910.0\n",
              "mean        0.0\n",
              "std         0.0\n",
              "min         0.0\n",
              "25%         0.0\n",
              "50%         0.0\n",
              "75%         0.0\n",
              "max         0.0\n",
              "dtype: float64"
            ]
          },
          "metadata": {
            "tags": []
          },
          "execution_count": 8
        }
      ]
    },
    {
      "cell_type": "code",
      "metadata": {
        "id": "qjIL4scv24dr",
        "outputId": "ff96b9ef-7287-45ea-91d9-a4ce90d8c1b0",
        "colab": {
          "base_uri": "https://localhost:8080/",
          "height": 221
        }
      },
      "source": [
        "x=refm['有效票數']+refm['無效票數']-refm['投票數']\n",
        "x"
      ],
      "execution_count": 9,
      "outputs": [
        {
          "output_type": "execute_result",
          "data": {
            "text/plain": [
              "0       0\n",
              "1       0\n",
              "2       0\n",
              "3       0\n",
              "4       0\n",
              "       ..\n",
              "3905    0\n",
              "3906    0\n",
              "3907    0\n",
              "3908    0\n",
              "3909    0\n",
              "Length: 3910, dtype: int64"
            ]
          },
          "metadata": {
            "tags": []
          },
          "execution_count": 9
        }
      ]
    },
    {
      "cell_type": "code",
      "metadata": {
        "id": "qU5fN5Kc27r3",
        "outputId": "b2733050-89b3-424b-af26-3f732172d029",
        "colab": {
          "base_uri": "https://localhost:8080/",
          "height": 170
        }
      },
      "source": [
        "x.describe()"
      ],
      "execution_count": 10,
      "outputs": [
        {
          "output_type": "execute_result",
          "data": {
            "text/plain": [
              "count    3910.0\n",
              "mean        0.0\n",
              "std         0.0\n",
              "min         0.0\n",
              "25%         0.0\n",
              "50%         0.0\n",
              "75%         0.0\n",
              "max         0.0\n",
              "dtype: float64"
            ]
          },
          "metadata": {
            "tags": []
          },
          "execution_count": 10
        }
      ]
    },
    {
      "cell_type": "markdown",
      "metadata": {
        "id": "qLmxf_Yy3qV7"
      },
      "source": [
        "# 簡化資料\n",
        "\n",
        "首先把全國及縣市加總資料刪掉"
      ]
    },
    {
      "cell_type": "code",
      "metadata": {
        "id": "ir0ssv453xoz"
      },
      "source": [
        "refm2 = refm[~ refm['鄉鎮市區'].isnull()]\n",
        "refm2"
      ],
      "execution_count": null,
      "outputs": []
    },
    {
      "cell_type": "code",
      "metadata": {
        "id": "C0RUPSEb4vfc"
      },
      "source": [
        "refm3 = refm.dropna(subset=['鄉鎮市區'])\n",
        "refm3"
      ],
      "execution_count": null,
      "outputs": []
    },
    {
      "cell_type": "markdown",
      "metadata": {
        "id": "IU2nor4v4Kby"
      },
      "source": [
        "# 計算 「贊成比例」\n",
        "```\n",
        "計算「贊成比例」並且把「鄉鎮市區」冠上縣市名稱。 \n",
        "只留下三個欄位「案件」、「鄉鎮市區」、「贊成比例」\n",
        "```\n"
      ]
    },
    {
      "cell_type": "code",
      "metadata": {
        "id": "Ms_SIJCy5Ign",
        "outputId": "66f17221-b99d-457d-f4bf-f9e82f275fee",
        "colab": {
          "base_uri": "https://localhost:8080/",
          "height": 241
        }
      },
      "source": [
        "refm = refm3\n",
        "refm['贊成比例'] = refm['同意票數']/refm['投票數']\n",
        "refm['鄉鎮市區'] = refm['縣市'] + refm['鄉鎮市區']\n",
        "refm2 = refm.drop(columns=['縣市', '同意票數', '不同意票數', '有效票數', '無效票數', '投票數', '投票權人數'])\n",
        "refm3 = refm[['案件', '鄉鎮市區', '贊成比例']]"
      ],
      "execution_count": 13,
      "outputs": [
        {
          "output_type": "stream",
          "text": [
            "/usr/local/lib/python3.6/dist-packages/ipykernel_launcher.py:2: SettingWithCopyWarning: \n",
            "A value is trying to be set on a copy of a slice from a DataFrame.\n",
            "Try using .loc[row_indexer,col_indexer] = value instead\n",
            "\n",
            "See the caveats in the documentation: https://pandas.pydata.org/pandas-docs/stable/user_guide/indexing.html#returning-a-view-versus-a-copy\n",
            "  \n",
            "/usr/local/lib/python3.6/dist-packages/ipykernel_launcher.py:3: SettingWithCopyWarning: \n",
            "A value is trying to be set on a copy of a slice from a DataFrame.\n",
            "Try using .loc[row_indexer,col_indexer] = value instead\n",
            "\n",
            "See the caveats in the documentation: https://pandas.pydata.org/pandas-docs/stable/user_guide/indexing.html#returning-a-view-versus-a-copy\n",
            "  This is separate from the ipykernel package so we can avoid doing imports until\n"
          ],
          "name": "stderr"
        }
      ]
    },
    {
      "cell_type": "code",
      "metadata": {
        "id": "dtPBDn0L5ofd",
        "outputId": "c6f3b5f6-fdc7-4f7a-bd04-ffd9a5afc9da",
        "colab": {
          "base_uri": "https://localhost:8080/",
          "height": 419
        }
      },
      "source": [
        "refm"
      ],
      "execution_count": 19,
      "outputs": [
        {
          "output_type": "execute_result",
          "data": {
            "text/html": [
              "<div>\n",
              "<style scoped>\n",
              "    .dataframe tbody tr th:only-of-type {\n",
              "        vertical-align: middle;\n",
              "    }\n",
              "\n",
              "    .dataframe tbody tr th {\n",
              "        vertical-align: top;\n",
              "    }\n",
              "\n",
              "    .dataframe thead th {\n",
              "        text-align: right;\n",
              "    }\n",
              "</style>\n",
              "<table border=\"1\" class=\"dataframe\">\n",
              "  <thead>\n",
              "    <tr style=\"text-align: right;\">\n",
              "      <th></th>\n",
              "      <th>案件</th>\n",
              "      <th>縣市</th>\n",
              "      <th>鄉鎮市區</th>\n",
              "      <th>同意票數</th>\n",
              "      <th>不同意票數</th>\n",
              "      <th>有效票數</th>\n",
              "      <th>無效票數</th>\n",
              "      <th>投票數</th>\n",
              "      <th>投票權人數</th>\n",
              "      <th>贊成比例</th>\n",
              "    </tr>\n",
              "  </thead>\n",
              "  <tbody>\n",
              "    <tr>\n",
              "      <th>2</th>\n",
              "      <td>c07</td>\n",
              "      <td>南投縣</td>\n",
              "      <td>南投縣中寮鄉</td>\n",
              "      <td>5701</td>\n",
              "      <td>1272</td>\n",
              "      <td>6973</td>\n",
              "      <td>633</td>\n",
              "      <td>7606</td>\n",
              "      <td>13181</td>\n",
              "      <td>0.749540</td>\n",
              "    </tr>\n",
              "    <tr>\n",
              "      <th>3</th>\n",
              "      <td>c07</td>\n",
              "      <td>南投縣</td>\n",
              "      <td>南投縣仁愛鄉</td>\n",
              "      <td>5087</td>\n",
              "      <td>1090</td>\n",
              "      <td>6177</td>\n",
              "      <td>467</td>\n",
              "      <td>6644</td>\n",
              "      <td>12589</td>\n",
              "      <td>0.765653</td>\n",
              "    </tr>\n",
              "    <tr>\n",
              "      <th>4</th>\n",
              "      <td>c07</td>\n",
              "      <td>南投縣</td>\n",
              "      <td>南投縣信義鄉</td>\n",
              "      <td>5246</td>\n",
              "      <td>1259</td>\n",
              "      <td>6505</td>\n",
              "      <td>961</td>\n",
              "      <td>7466</td>\n",
              "      <td>13299</td>\n",
              "      <td>0.702652</td>\n",
              "    </tr>\n",
              "    <tr>\n",
              "      <th>5</th>\n",
              "      <td>c07</td>\n",
              "      <td>南投縣</td>\n",
              "      <td>南投縣南投市</td>\n",
              "      <td>39753</td>\n",
              "      <td>8588</td>\n",
              "      <td>48341</td>\n",
              "      <td>2677</td>\n",
              "      <td>51018</td>\n",
              "      <td>84328</td>\n",
              "      <td>0.779196</td>\n",
              "    </tr>\n",
              "    <tr>\n",
              "      <th>6</th>\n",
              "      <td>c07</td>\n",
              "      <td>南投縣</td>\n",
              "      <td>南投縣名間鄉</td>\n",
              "      <td>14946</td>\n",
              "      <td>3387</td>\n",
              "      <td>18333</td>\n",
              "      <td>1622</td>\n",
              "      <td>19955</td>\n",
              "      <td>33408</td>\n",
              "      <td>0.748985</td>\n",
              "    </tr>\n",
              "    <tr>\n",
              "      <th>...</th>\n",
              "      <td>...</td>\n",
              "      <td>...</td>\n",
              "      <td>...</td>\n",
              "      <td>...</td>\n",
              "      <td>...</td>\n",
              "      <td>...</td>\n",
              "      <td>...</td>\n",
              "      <td>...</td>\n",
              "      <td>...</td>\n",
              "      <td>...</td>\n",
              "    </tr>\n",
              "    <tr>\n",
              "      <th>3905</th>\n",
              "      <td>c16</td>\n",
              "      <td>高雄市</td>\n",
              "      <td>高雄市阿蓮區</td>\n",
              "      <td>6890</td>\n",
              "      <td>5125</td>\n",
              "      <td>12015</td>\n",
              "      <td>1066</td>\n",
              "      <td>13081</td>\n",
              "      <td>24534</td>\n",
              "      <td>0.526718</td>\n",
              "    </tr>\n",
              "    <tr>\n",
              "      <th>3906</th>\n",
              "      <td>c16</td>\n",
              "      <td>高雄市</td>\n",
              "      <td>高雄市鳥松區</td>\n",
              "      <td>12625</td>\n",
              "      <td>9306</td>\n",
              "      <td>21931</td>\n",
              "      <td>1688</td>\n",
              "      <td>23619</td>\n",
              "      <td>39191</td>\n",
              "      <td>0.534527</td>\n",
              "    </tr>\n",
              "    <tr>\n",
              "      <th>3907</th>\n",
              "      <td>c16</td>\n",
              "      <td>高雄市</td>\n",
              "      <td>高雄市鳳山區</td>\n",
              "      <td>99747</td>\n",
              "      <td>64662</td>\n",
              "      <td>164409</td>\n",
              "      <td>12511</td>\n",
              "      <td>176920</td>\n",
              "      <td>300510</td>\n",
              "      <td>0.563797</td>\n",
              "    </tr>\n",
              "    <tr>\n",
              "      <th>3908</th>\n",
              "      <td>c16</td>\n",
              "      <td>高雄市</td>\n",
              "      <td>高雄市鹽埕區</td>\n",
              "      <td>6495</td>\n",
              "      <td>4957</td>\n",
              "      <td>11452</td>\n",
              "      <td>718</td>\n",
              "      <td>12170</td>\n",
              "      <td>21617</td>\n",
              "      <td>0.533689</td>\n",
              "    </tr>\n",
              "    <tr>\n",
              "      <th>3909</th>\n",
              "      <td>c16</td>\n",
              "      <td>高雄市</td>\n",
              "      <td>高雄市鼓山區</td>\n",
              "      <td>38075</td>\n",
              "      <td>24959</td>\n",
              "      <td>63034</td>\n",
              "      <td>4429</td>\n",
              "      <td>67463</td>\n",
              "      <td>114979</td>\n",
              "      <td>0.564383</td>\n",
              "    </tr>\n",
              "  </tbody>\n",
              "</table>\n",
              "<p>3680 rows × 10 columns</p>\n",
              "</div>"
            ],
            "text/plain": [
              "       案件   縣市    鄉鎮市區   同意票數  不同意票數    有效票數   無效票數     投票數   投票權人數      贊成比例\n",
              "2     c07  南投縣  南投縣中寮鄉   5701   1272    6973    633    7606   13181  0.749540\n",
              "3     c07  南投縣  南投縣仁愛鄉   5087   1090    6177    467    6644   12589  0.765653\n",
              "4     c07  南投縣  南投縣信義鄉   5246   1259    6505    961    7466   13299  0.702652\n",
              "5     c07  南投縣  南投縣南投市  39753   8588   48341   2677   51018   84328  0.779196\n",
              "6     c07  南投縣  南投縣名間鄉  14946   3387   18333   1622   19955   33408  0.748985\n",
              "...   ...  ...     ...    ...    ...     ...    ...     ...     ...       ...\n",
              "3905  c16  高雄市  高雄市阿蓮區   6890   5125   12015   1066   13081   24534  0.526718\n",
              "3906  c16  高雄市  高雄市鳥松區  12625   9306   21931   1688   23619   39191  0.534527\n",
              "3907  c16  高雄市  高雄市鳳山區  99747  64662  164409  12511  176920  300510  0.563797\n",
              "3908  c16  高雄市  高雄市鹽埕區   6495   4957   11452    718   12170   21617  0.533689\n",
              "3909  c16  高雄市  高雄市鼓山區  38075  24959   63034   4429   67463  114979  0.564383\n",
              "\n",
              "[3680 rows x 10 columns]"
            ]
          },
          "metadata": {
            "tags": []
          },
          "execution_count": 19
        }
      ]
    },
    {
      "cell_type": "code",
      "metadata": {
        "id": "fJuv-03B5OnW",
        "outputId": "e91fb110-117d-40a2-977f-cbde113505b0",
        "colab": {
          "base_uri": "https://localhost:8080/",
          "height": 419
        }
      },
      "source": [
        "refm3"
      ],
      "execution_count": 18,
      "outputs": [
        {
          "output_type": "execute_result",
          "data": {
            "text/html": [
              "<div>\n",
              "<style scoped>\n",
              "    .dataframe tbody tr th:only-of-type {\n",
              "        vertical-align: middle;\n",
              "    }\n",
              "\n",
              "    .dataframe tbody tr th {\n",
              "        vertical-align: top;\n",
              "    }\n",
              "\n",
              "    .dataframe thead th {\n",
              "        text-align: right;\n",
              "    }\n",
              "</style>\n",
              "<table border=\"1\" class=\"dataframe\">\n",
              "  <thead>\n",
              "    <tr style=\"text-align: right;\">\n",
              "      <th></th>\n",
              "      <th>案件</th>\n",
              "      <th>鄉鎮市區</th>\n",
              "      <th>贊成比例</th>\n",
              "    </tr>\n",
              "  </thead>\n",
              "  <tbody>\n",
              "    <tr>\n",
              "      <th>2</th>\n",
              "      <td>c07</td>\n",
              "      <td>南投縣中寮鄉</td>\n",
              "      <td>0.749540</td>\n",
              "    </tr>\n",
              "    <tr>\n",
              "      <th>3</th>\n",
              "      <td>c07</td>\n",
              "      <td>南投縣仁愛鄉</td>\n",
              "      <td>0.765653</td>\n",
              "    </tr>\n",
              "    <tr>\n",
              "      <th>4</th>\n",
              "      <td>c07</td>\n",
              "      <td>南投縣信義鄉</td>\n",
              "      <td>0.702652</td>\n",
              "    </tr>\n",
              "    <tr>\n",
              "      <th>5</th>\n",
              "      <td>c07</td>\n",
              "      <td>南投縣南投市</td>\n",
              "      <td>0.779196</td>\n",
              "    </tr>\n",
              "    <tr>\n",
              "      <th>6</th>\n",
              "      <td>c07</td>\n",
              "      <td>南投縣名間鄉</td>\n",
              "      <td>0.748985</td>\n",
              "    </tr>\n",
              "    <tr>\n",
              "      <th>...</th>\n",
              "      <td>...</td>\n",
              "      <td>...</td>\n",
              "      <td>...</td>\n",
              "    </tr>\n",
              "    <tr>\n",
              "      <th>3905</th>\n",
              "      <td>c16</td>\n",
              "      <td>高雄市阿蓮區</td>\n",
              "      <td>0.526718</td>\n",
              "    </tr>\n",
              "    <tr>\n",
              "      <th>3906</th>\n",
              "      <td>c16</td>\n",
              "      <td>高雄市鳥松區</td>\n",
              "      <td>0.534527</td>\n",
              "    </tr>\n",
              "    <tr>\n",
              "      <th>3907</th>\n",
              "      <td>c16</td>\n",
              "      <td>高雄市鳳山區</td>\n",
              "      <td>0.563797</td>\n",
              "    </tr>\n",
              "    <tr>\n",
              "      <th>3908</th>\n",
              "      <td>c16</td>\n",
              "      <td>高雄市鹽埕區</td>\n",
              "      <td>0.533689</td>\n",
              "    </tr>\n",
              "    <tr>\n",
              "      <th>3909</th>\n",
              "      <td>c16</td>\n",
              "      <td>高雄市鼓山區</td>\n",
              "      <td>0.564383</td>\n",
              "    </tr>\n",
              "  </tbody>\n",
              "</table>\n",
              "<p>3680 rows × 3 columns</p>\n",
              "</div>"
            ],
            "text/plain": [
              "       案件    鄉鎮市區      贊成比例\n",
              "2     c07  南投縣中寮鄉  0.749540\n",
              "3     c07  南投縣仁愛鄉  0.765653\n",
              "4     c07  南投縣信義鄉  0.702652\n",
              "5     c07  南投縣南投市  0.779196\n",
              "6     c07  南投縣名間鄉  0.748985\n",
              "...   ...     ...       ...\n",
              "3905  c16  高雄市阿蓮區  0.526718\n",
              "3906  c16  高雄市鳥松區  0.534527\n",
              "3907  c16  高雄市鳳山區  0.563797\n",
              "3908  c16  高雄市鹽埕區  0.533689\n",
              "3909  c16  高雄市鼓山區  0.564383\n",
              "\n",
              "[3680 rows x 3 columns]"
            ]
          },
          "metadata": {
            "tags": []
          },
          "execution_count": 18
        }
      ]
    },
    {
      "cell_type": "code",
      "metadata": {
        "id": "4afEPz4g6K-7",
        "outputId": "a1391fbc-d040-41b7-ee99-29369c7c7cc6",
        "colab": {
          "base_uri": "https://localhost:8080/",
          "height": 419
        }
      },
      "source": [
        "refm = refm3\n",
        "x07 = refm[refm['案件']=='c07'][['鄉鎮市區','贊成比例']]\n",
        "x08 = refm[refm['案件']=='c08'][['鄉鎮市區','贊成比例']]\n",
        "tmp = pd.concat([x07.set_index('鄉鎮市區'), x08.set_index('鄉鎮市區')], axis=1, sort=True)\n",
        "tmp.columns = ['c07', 'c08']\n",
        "refm3"
      ],
      "execution_count": 22,
      "outputs": [
        {
          "output_type": "execute_result",
          "data": {
            "text/html": [
              "<div>\n",
              "<style scoped>\n",
              "    .dataframe tbody tr th:only-of-type {\n",
              "        vertical-align: middle;\n",
              "    }\n",
              "\n",
              "    .dataframe tbody tr th {\n",
              "        vertical-align: top;\n",
              "    }\n",
              "\n",
              "    .dataframe thead th {\n",
              "        text-align: right;\n",
              "    }\n",
              "</style>\n",
              "<table border=\"1\" class=\"dataframe\">\n",
              "  <thead>\n",
              "    <tr style=\"text-align: right;\">\n",
              "      <th></th>\n",
              "      <th>案件</th>\n",
              "      <th>鄉鎮市區</th>\n",
              "      <th>贊成比例</th>\n",
              "    </tr>\n",
              "  </thead>\n",
              "  <tbody>\n",
              "    <tr>\n",
              "      <th>2</th>\n",
              "      <td>c07</td>\n",
              "      <td>南投縣中寮鄉</td>\n",
              "      <td>0.749540</td>\n",
              "    </tr>\n",
              "    <tr>\n",
              "      <th>3</th>\n",
              "      <td>c07</td>\n",
              "      <td>南投縣仁愛鄉</td>\n",
              "      <td>0.765653</td>\n",
              "    </tr>\n",
              "    <tr>\n",
              "      <th>4</th>\n",
              "      <td>c07</td>\n",
              "      <td>南投縣信義鄉</td>\n",
              "      <td>0.702652</td>\n",
              "    </tr>\n",
              "    <tr>\n",
              "      <th>5</th>\n",
              "      <td>c07</td>\n",
              "      <td>南投縣南投市</td>\n",
              "      <td>0.779196</td>\n",
              "    </tr>\n",
              "    <tr>\n",
              "      <th>6</th>\n",
              "      <td>c07</td>\n",
              "      <td>南投縣名間鄉</td>\n",
              "      <td>0.748985</td>\n",
              "    </tr>\n",
              "    <tr>\n",
              "      <th>...</th>\n",
              "      <td>...</td>\n",
              "      <td>...</td>\n",
              "      <td>...</td>\n",
              "    </tr>\n",
              "    <tr>\n",
              "      <th>3905</th>\n",
              "      <td>c16</td>\n",
              "      <td>高雄市阿蓮區</td>\n",
              "      <td>0.526718</td>\n",
              "    </tr>\n",
              "    <tr>\n",
              "      <th>3906</th>\n",
              "      <td>c16</td>\n",
              "      <td>高雄市鳥松區</td>\n",
              "      <td>0.534527</td>\n",
              "    </tr>\n",
              "    <tr>\n",
              "      <th>3907</th>\n",
              "      <td>c16</td>\n",
              "      <td>高雄市鳳山區</td>\n",
              "      <td>0.563797</td>\n",
              "    </tr>\n",
              "    <tr>\n",
              "      <th>3908</th>\n",
              "      <td>c16</td>\n",
              "      <td>高雄市鹽埕區</td>\n",
              "      <td>0.533689</td>\n",
              "    </tr>\n",
              "    <tr>\n",
              "      <th>3909</th>\n",
              "      <td>c16</td>\n",
              "      <td>高雄市鼓山區</td>\n",
              "      <td>0.564383</td>\n",
              "    </tr>\n",
              "  </tbody>\n",
              "</table>\n",
              "<p>3680 rows × 3 columns</p>\n",
              "</div>"
            ],
            "text/plain": [
              "       案件    鄉鎮市區      贊成比例\n",
              "2     c07  南投縣中寮鄉  0.749540\n",
              "3     c07  南投縣仁愛鄉  0.765653\n",
              "4     c07  南投縣信義鄉  0.702652\n",
              "5     c07  南投縣南投市  0.779196\n",
              "6     c07  南投縣名間鄉  0.748985\n",
              "...   ...     ...       ...\n",
              "3905  c16  高雄市阿蓮區  0.526718\n",
              "3906  c16  高雄市鳥松區  0.534527\n",
              "3907  c16  高雄市鳳山區  0.563797\n",
              "3908  c16  高雄市鹽埕區  0.533689\n",
              "3909  c16  高雄市鼓山區  0.564383\n",
              "\n",
              "[3680 rows x 3 columns]"
            ]
          },
          "metadata": {
            "tags": []
          },
          "execution_count": 22
        }
      ]
    },
    {
      "cell_type": "code",
      "metadata": {
        "id": "ftGEyF2d6h2H"
      },
      "source": [
        "summary = refm[refm['案件']=='c07'][['鄉鎮市區','贊成比例']].set_index('鄉鎮市區')\n",
        "\n",
        "cnames = refm['案件'].unique()\n",
        "\n",
        "for c in cnames[1:] :\n",
        "    tmp = refm[refm['案件']==c][['鄉鎮市區','贊成比例']]\n",
        "    summary = pd.concat([summary, tmp.set_index('鄉鎮市區')], axis=1, sort=True)\n",
        "\n",
        "summary.columns = cnames"
      ],
      "execution_count": 23,
      "outputs": []
    }
  ]
}